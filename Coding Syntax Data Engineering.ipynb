{
 "cells": [
  {
   "cell_type": "code",
   "execution_count": 1,
   "id": "c0feaa8e-39dc-4cf5-b390-b6b8c84da97e",
   "metadata": {},
   "outputs": [],
   "source": [
    "import pandas as pd "
   ]
  },
  {
   "cell_type": "markdown",
   "id": "93d5f190-bb62-465c-916d-ebbcf1d7d039",
   "metadata": {},
   "source": [
    "### Question 1"
   ]
  },
  {
   "cell_type": "code",
   "execution_count": 2,
   "id": "771bd0eb-7c8b-46eb-a337-930a356d41f0",
   "metadata": {},
   "outputs": [],
   "source": [
    "data = {'name':['Andy','Jose','Dieu','Chloe','Jose'], 'continent':['America','Europe','Asia','America','Europe'],\n",
    "       'college':['Lib Art', 'Business', 'Engineering', 'Engineering', 'Business']}\n",
    "STUDENTS = pd.DataFrame(data = data)"
   ]
  },
  {
   "cell_type": "code",
   "execution_count": 26,
   "id": "062450bd-d41f-4cfb-9885-70211acc754a",
   "metadata": {},
   "outputs": [],
   "source": [
    "# Create new dataframe COUNTS\n",
    "# 1.A\n",
    "remove_dup = STUDENTS.drop_duplicates(keep='first')\n",
    "\n",
    "# 1.B\n",
    "count_continent_colleage = remove_dup.groupby(['continent','college']).agg({'name':'count'})\n",
    "count_continent_colleage = count_continent_colleage.rename(columns={'name':'student count'})\n",
    "\n",
    "#1.C creating the pivot COUNTS table\n",
    "COUNTS = pd.pivot_table(remove_dup, values='name', index='college', columns='continent',aggfunc='count')\n",
    "\n",
    "#1.D reset index \n",
    "\n",
    "COUNTS_remove_index = pd.pivot_table(remove_dup, values='name', index='college', columns='continent',aggfunc='count').reset_index()\n",
    "\n",
    "#1.E fill NA == 0\n",
    "\n",
    "COUNTS = COUNTS.fillna(0)\n",
    "\n",
    "#1.F Sort COUNTS reverse alphabetically by college name \n",
    "\n",
    "COUNTS = COUNTS.sort_index(axis=0, ascending=False)"
   ]
  },
  {
   "cell_type": "code",
   "execution_count": 28,
   "id": "6420bf5c-2384-4a60-a114-b9905f197156",
   "metadata": {},
   "outputs": [
    {
     "data": {
      "text/html": [
       "<div>\n",
       "<style scoped>\n",
       "    .dataframe tbody tr th:only-of-type {\n",
       "        vertical-align: middle;\n",
       "    }\n",
       "\n",
       "    .dataframe tbody tr th {\n",
       "        vertical-align: top;\n",
       "    }\n",
       "\n",
       "    .dataframe thead th {\n",
       "        text-align: right;\n",
       "    }\n",
       "</style>\n",
       "<table border=\"1\" class=\"dataframe\">\n",
       "  <thead>\n",
       "    <tr style=\"text-align: right;\">\n",
       "      <th>continent</th>\n",
       "      <th>America</th>\n",
       "      <th>Asia</th>\n",
       "      <th>Europe</th>\n",
       "    </tr>\n",
       "    <tr>\n",
       "      <th>college</th>\n",
       "      <th></th>\n",
       "      <th></th>\n",
       "      <th></th>\n",
       "    </tr>\n",
       "  </thead>\n",
       "  <tbody>\n",
       "    <tr>\n",
       "      <th>Lib Art</th>\n",
       "      <td>1.0</td>\n",
       "      <td>0.0</td>\n",
       "      <td>0.0</td>\n",
       "    </tr>\n",
       "    <tr>\n",
       "      <th>Engineering</th>\n",
       "      <td>1.0</td>\n",
       "      <td>1.0</td>\n",
       "      <td>0.0</td>\n",
       "    </tr>\n",
       "    <tr>\n",
       "      <th>Business</th>\n",
       "      <td>0.0</td>\n",
       "      <td>0.0</td>\n",
       "      <td>1.0</td>\n",
       "    </tr>\n",
       "  </tbody>\n",
       "</table>\n",
       "</div>"
      ],
      "text/plain": [
       "continent    America  Asia  Europe\n",
       "college                           \n",
       "Lib Art          1.0   0.0     0.0\n",
       "Engineering      1.0   1.0     0.0\n",
       "Business         0.0   0.0     1.0"
      ]
     },
     "execution_count": 28,
     "metadata": {},
     "output_type": "execute_result"
    }
   ],
   "source": [
    "# Desired output\n",
    "COUNTS"
   ]
  },
  {
   "cell_type": "markdown",
   "id": "9f2e664f-24ac-450f-9318-3342113d50f3",
   "metadata": {},
   "source": [
    "### Question 2"
   ]
  },
  {
   "cell_type": "markdown",
   "id": "bc93ccee-8470-4a69-b038-a6cb92000f62",
   "metadata": {},
   "source": [
    "- A. A\n",
    "- B. A\n",
    "- C. B <br>\n",
    "**R Section**\n",
    "- A. C\n",
    "- B. C\n",
    "- C. C"
   ]
  },
  {
   "cell_type": "code",
   "execution_count": null,
   "id": "37d74d0f-a99f-406a-84c7-8c43366b4512",
   "metadata": {},
   "outputs": [],
   "source": []
  }
 ],
 "metadata": {
  "kernelspec": {
   "display_name": "Python 3",
   "language": "python",
   "name": "python3"
  },
  "language_info": {
   "codemirror_mode": {
    "name": "ipython",
    "version": 3
   },
   "file_extension": ".py",
   "mimetype": "text/x-python",
   "name": "python",
   "nbconvert_exporter": "python",
   "pygments_lexer": "ipython3",
   "version": "3.8.8"
  }
 },
 "nbformat": 4,
 "nbformat_minor": 5
}
